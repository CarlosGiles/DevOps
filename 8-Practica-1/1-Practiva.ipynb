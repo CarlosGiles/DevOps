{
 "cells": [
  {
   "cell_type": "markdown",
   "id": "513ec549-b147-48cd-91da-d78fba0f299c",
   "metadata": {},
   "source": [
    "# Practica\n",
    "Crear un archivo de bash:\n",
    "1. Se mueva a un directorio previamente creado en home.\n",
    "2. Descargue un archivo de imagen de la siguiente [URL](https://unsplash.it/1920/1080//?random) y lo guarde en el directorio previo.\n",
    "3. El archivo de la imagen deberá tener un nombre aleatorio como \"wallpaper-1734798.jpg\".\n",
    "4. Cada descarga de archivo se guarda en un log el resultado de ejecución de la descarga.\n",
    "5. Al final generará otro archivo de log que por cada ejecución de descarga liste los archivos de imagenes descargadas en el directorio de imagenes. Debe actualizar, no repetir entradas en el log.\n",
    "6. Configurar un cronjob que se ejecute cada 10 minutos tomando el script."
   ]
  },
  {
   "cell_type": "code",
   "execution_count": 3,
   "id": "cd2865d8-b1c3-4fd3-bb43-70da4054c28a",
   "metadata": {},
   "outputs": [],
   "source": [
    "mkdir imagenes"
   ]
  },
  {
   "cell_type": "code",
   "execution_count": 8,
   "id": "0925cf20-eb5d-47ea-90b1-1e351bde6ab0",
   "metadata": {},
   "outputs": [],
   "source": [
    "touch descargar_imagen.sh"
   ]
  },
  {
   "cell_type": "markdown",
   "id": "f32c6e38-6f15-469c-8989-61e4964d1a65",
   "metadata": {},
   "source": [
    "El script es el siguiente y se agrega al archivo con nano por consola:\n",
    "```bash\n",
    "#!/bin/bash\n",
    "\n",
    "# Movernos al directorio\n",
    "cd ~/imagenes\n",
    "\n",
    "# Generar un número aleatorio para el nombre del archivo\n",
    "NUM_ALEATORIO=$((RANDOM))\n",
    "\n",
    "# Nombre aleatorio de la imagen\n",
    "NOMBRE_IMAGEN=\"wallpaper-${NUM_ALEATORIO}.jpg\"\n",
    "\n",
    "# URL\n",
    "URL=\"https://unsplash.it/1920/1080//?random\"\n",
    "\n",
    "# LOG para descarga\n",
    "LOG_DESCARGA=\"descarga.log\"\n",
    "\n",
    "# Descarga y almacenar resultado\n",
    "wget -O \"$NOMBRE_IMAGEN\" \"$URL\" >> \"$LOG_DESCARGA\" 2>&1\n",
    "\n",
    "# LOG para listar descargas\n",
    "LOG_IMAGENES=\"imagenes_descargadas.log\"\n",
    "\n",
    "# Si no existe crear archivo log\n",
    "tuch \"$LOG_IMAGENES\"\n",
    "\n",
    "# Si no existe añadimos el nombre del archivo al log\n",
    "if ! grep -Fxq \"$NOMBRE_IMAGEN\" \"LOG_IMAGENES\" ; then\n",
    "        echo \"$NOMBRE_IMAGEN\" >> \"$LOG_IMAGENES\"\n",
    "fi\n",
    "```"
   ]
  },
  {
   "cell_type": "markdown",
   "id": "ab06b389-00b4-4d27-babe-36226942db67",
   "metadata": {},
   "source": [
    "Abrimos el crontab por consola y agregamos:\n",
    "\n",
    "```*/10 * * * * bash /home/vagrant/jupyter/DevOps/8-Practica-1/descargar_imagen.sh```"
   ]
  },
  {
   "cell_type": "code",
   "execution_count": 4,
   "id": "631720e9-cf94-47f7-b49e-95b24895a36f",
   "metadata": {},
   "outputs": [],
   "source": [
    "cd imagenes"
   ]
  },
  {
   "cell_type": "code",
   "execution_count": 5,
   "id": "bc3ba36c-be31-4fbe-a13e-e1bc73b293de",
   "metadata": {},
   "outputs": [
    {
     "name": "stdout",
     "output_type": "stream",
     "text": [
      "--2024-11-25 20:00:01--  https://unsplash.it/1920/1080//?random\n",
      "Resolviendo unsplash.it (unsplash.it)... 135.181.133.240, 2a01:4f9:4b:24da::\n",
      "Conectando con unsplash.it (unsplash.it)[135.181.133.240]:443... conectado.\n",
      "Petición HTTP enviada, esperando respuesta... 301 Moved Permanently\n",
      "Localización: https://picsum.photos/1920/1080//?random [siguiendo]\n",
      "--2024-11-25 20:00:02--  https://picsum.photos/1920/1080//?random\n",
      "Resolviendo picsum.photos (picsum.photos)... 104.26.4.30, 104.26.5.30, 172.67.74.163, ...\n",
      "Conectando con picsum.photos (picsum.photos)[104.26.4.30]:443... conectado.\n",
      "Petición HTTP enviada, esperando respuesta... 301 Moved Permanently\n",
      "Localización: /1920/1080/?random [siguiendo]\n",
      "--2024-11-25 20:00:03--  https://picsum.photos/1920/1080/?random\n",
      "Reutilizando la conexión con picsum.photos:443.\n",
      "Petición HTTP enviada, esperando respuesta... 301 Moved Permanently\n",
      "Localización: /1920/1080?random [siguiendo]\n",
      "--2024-11-25 20:00:03--  https://picsum.photos/1920/1080?random\n",
      "Reutilizando la conexión con picsum.photos:443.\n",
      "Petición HTTP enviada, esperando respuesta... 302 Found\n",
      "Localización: https://fastly.picsum.photos/id/886/1920/1080.jpg?hmac=Y0xgZU4RtUmKPORxvJ-un4QKDjxaLDdH_QXUJBjjIv0 [siguiendo]\n",
      "--2024-11-25 20:00:04--  https://fastly.picsum.photos/id/886/1920/1080.jpg?hmac=Y0xgZU4RtUmKPORxvJ-un4QKDjxaLDdH_QXUJBjjIv0\n",
      "Resolviendo fastly.picsum.photos (fastly.picsum.photos)... 146.75.105.91, 2a04:4e42:8a::347\n",
      "Conectando con fastly.picsum.photos (fastly.picsum.photos)[146.75.105.91]:443... conectado.\n",
      "Petición HTTP enviada, esperando respuesta... 200 OK\n",
      "Longitud: 64027 (63K) [image/jpeg]\n",
      "Grabando a: «wallpaper-32012.jpg»\n",
      "\n",
      "     0K .......... .......... .......... .......... .......... 79%  604K 0s\n",
      "    50K .......... ..                                         100% 7.36M=0.08s\n",
      "\n",
      "2024-11-25 20:00:04 (740 KB/s) - «wallpaper-32012.jpg» guardado [64027/64027]\n",
      "\n",
      "--2024-11-25 20:01:01--  https://unsplash.it/1920/1080//?random\n",
      "Resolviendo unsplash.it (unsplash.it)... 135.181.133.240, 2a01:4f9:4b:24da::\n",
      "Conectando con unsplash.it (unsplash.it)[135.181.133.240]:443... conectado.\n",
      "Petición HTTP enviada, esperando respuesta... 301 Moved Permanently\n",
      "Localización: https://picsum.photos/1920/1080//?random [siguiendo]\n",
      "--2024-11-25 20:01:02--  https://picsum.photos/1920/1080//?random\n",
      "Resolviendo picsum.photos (picsum.photos)... 172.67.74.163, 104.26.5.30, 104.26.4.30, ...\n",
      "Conectando con picsum.photos (picsum.photos)[172.67.74.163]:443... conectado.\n",
      "Petición HTTP enviada, esperando respuesta... 301 Moved Permanently\n",
      "Localización: /1920/1080/?random [siguiendo]\n",
      "--2024-11-25 20:01:03--  https://picsum.photos/1920/1080/?random\n",
      "Reutilizando la conexión con picsum.photos:443.\n",
      "Petición HTTP enviada, esperando respuesta... 301 Moved Permanently\n",
      "Localización: /1920/1080?random [siguiendo]\n",
      "--2024-11-25 20:01:04--  https://picsum.photos/1920/1080?random\n",
      "Reutilizando la conexión con picsum.photos:443.\n",
      "Petición HTTP enviada, esperando respuesta... 302 Found\n",
      "Localización: https://fastly.picsum.photos/id/858/1920/1080.jpg?hmac=XxpcKOJURSTxqnL4ki5oEWI-RRvjXqkG6ALBGJmZZ30 [siguiendo]\n",
      "--2024-11-25 20:01:04--  https://fastly.picsum.photos/id/858/1920/1080.jpg?hmac=XxpcKOJURSTxqnL4ki5oEWI-RRvjXqkG6ALBGJmZZ30\n",
      "Resolviendo fastly.picsum.photos (fastly.picsum.photos)... 146.75.105.91, 2a04:4e42:8a::347\n",
      "Conectando con fastly.picsum.photos (fastly.picsum.photos)[146.75.105.91]:443... conectado.\n",
      "Petición HTTP enviada, esperando respuesta... 200 OK\n",
      "Longitud: 157781 (154K) [image/jpeg]\n",
      "Grabando a: «wallpaper-31993.jpg»\n",
      "\n",
      "     0K .......... .......... .......... .......... .......... 32%  242K 0s\n",
      "    50K .......... .......... .......... .......... .......... 64%  472K 0s\n",
      "   100K .......... .......... .......... .......... .......... 97%  725K 0s\n",
      "   150K ....                                                  100% 41.2M=0.4s\n",
      "\n",
      "2024-11-25 20:01:05 (404 KB/s) - «wallpaper-31993.jpg» guardado [157781/157781]\n",
      "\n"
     ]
    }
   ],
   "source": [
    "cat descarga.log"
   ]
  },
  {
   "cell_type": "code",
   "execution_count": 6,
   "id": "7eb253c1-1b23-45b3-b651-6cd8703b10a4",
   "metadata": {},
   "outputs": [
    {
     "name": "stdout",
     "output_type": "stream",
     "text": [
      "wallpaper-32012.jpg\n",
      "wallpaper-31993.jpg\n"
     ]
    }
   ],
   "source": [
    "cat imagenes_descargadas.log"
   ]
  },
  {
   "cell_type": "code",
   "execution_count": null,
   "id": "3ff1f097-bb25-4596-b5ed-1647b409be04",
   "metadata": {},
   "outputs": [],
   "source": []
  }
 ],
 "metadata": {
  "kernelspec": {
   "display_name": "Bash",
   "language": "bash",
   "name": "bash"
  },
  "language_info": {
   "codemirror_mode": "shell",
   "file_extension": ".sh",
   "mimetype": "text/x-sh",
   "name": "bash"
  }
 },
 "nbformat": 4,
 "nbformat_minor": 5
}
