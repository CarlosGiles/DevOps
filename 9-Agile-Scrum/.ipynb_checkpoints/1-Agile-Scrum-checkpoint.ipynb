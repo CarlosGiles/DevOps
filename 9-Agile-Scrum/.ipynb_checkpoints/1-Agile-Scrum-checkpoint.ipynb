{
 "cells": [
  {
   "cell_type": "markdown",
   "id": "795fa927-078e-4729-956c-dd7a8e0880e2",
   "metadata": {},
   "source": [
    "# Introducción a Agile y Scrum\n",
    "\n",
    "## Antecedentes\n",
    "Antes del método Agile, el desarrollo de software se regía por el método de cascada o waterfall. Este método requiere levantar los requerimientos por completo antes de comenzar el proyecto, por lo que, al terminar esta fase, podía pasar tanto tiempo que el proyecto ya requería otra cosa.\n",
    "\n",
    "## Agile y Scrum en el Desarrollo de Software\n",
    "\n",
    "*Agile* y *Scrum* son dos conceptos fundamentales en la gestión y desarrollo de proyectos de software modernos. Surgieron como respuestas a las limitaciones de los enfoques tradicionales, como el modelo en cascada, que no ofrecían suficiente flexibilidad para adaptarse a los cambios rápidos y las necesidades del cliente.\n",
    "\n",
    "### ¿Qué es Agile?\n",
    "\n",
    "Agile es un *marco de trabajo* que promueve un enfoque iterativo e incremental para el desarrollo de software. Se basa en los principios del *Manifiesto Ágil* (2001), que enfatiza:\n",
    "\n",
    "1. *Individuos e interacciones* sobre procesos y herramientas.\n",
    "2. *Software funcional* sobre documentación extensa.\n",
    "3. *Colaboración con el cliente* sobre negociaciones contractuales.\n",
    "4. *Respuesta al cambio* sobre seguir un plan fijo.\n",
    "\n",
    "El enfoque ágil divide los proyectos en ciclos cortos llamados *iteraciones* o *sprints*, en los que se entregan incrementos funcionales del producto. Esto permite obtener retroalimentación temprana y continua, ajustando el rumbo según sea necesario.\n",
    "\n",
    "### ¿Qué es Scrum?\n",
    "\n",
    "Scrum es un *marco de trabajo dentro de Agile* diseñado para gestionar proyectos complejos. Es especialmente popular en el desarrollo de software debido a su simplicidad y efectividad. Scrum organiza el trabajo en *sprints* (generalmente de 2 a 4 semanas) y se basa en roles, eventos y artefactos bien definidos:\n",
    "\n",
    "1. *Roles clave*:\n",
    "   - *Product Owner*: Define la visión del producto y prioriza las tareas según el valor para el cliente.\n",
    "   - *Scrum Master*: Facilita el proceso Scrum y elimina impedimentos para el equipo.\n",
    "   - *Equipo de desarrollo*: Los responsables de entregar incrementos funcionales del producto.\n",
    "\n",
    "2. *Eventos principales*:\n",
    "   - *Sprint Planning*: Se planifica el trabajo del sprint.\n",
    "   - *Daily Scrum*: Una reunión diaria corta para sincronizar el equipo.\n",
    "   - *Sprint Review*: Se presenta el trabajo completado al final del sprint.\n",
    "   - *Sprint Retrospective*: Se reflexiona sobre lo que funcionó y qué mejorar.\n",
    "\n",
    "3. *Artefactos principales*:\n",
    "   - *Product Backlog*: Lista priorizada de todo el trabajo por hacer.\n",
    "   - *Sprint Backlog*: Subconjunto del Product Backlog seleccionado para un sprint.\n",
    "   - *Incremento*: Resultado funcional al final de cada sprint.\n",
    "\n",
    "### Ventajas de Agile y Scrum\n",
    "\n",
    "- *Adaptabilidad*: Responden rápidamente a cambios en los requisitos.\n",
    "- *Colaboración*: Fomentan la comunicación constante entre los equipos y las partes interesadas.\n",
    "- *Entrega rápida*: Producen software funcional en ciclos cortos.\n",
    "- *Calidad mejorada*: El feedback continuo permite ajustes tempranos."
   ]
  }
 ],
 "metadata": {
  "kernelspec": {
   "display_name": "Bash",
   "language": "bash",
   "name": "bash"
  },
  "language_info": {
   "codemirror_mode": "shell",
   "file_extension": ".sh",
   "mimetype": "text/x-sh",
   "name": "bash"
  }
 },
 "nbformat": 4,
 "nbformat_minor": 5
}
