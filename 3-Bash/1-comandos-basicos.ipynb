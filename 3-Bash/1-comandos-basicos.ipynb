{
 "cells": [
  {
   "cell_type": "markdown",
   "id": "47a9c1ae-f8ed-4014-bb0b-ca4593527070",
   "metadata": {},
   "source": [
    "# Comandos básicos de Linux\n",
    "Comandos básicos de linux y sus parámetros"
   ]
  },
  {
   "cell_type": "markdown",
   "id": "e94f120e-04f1-428e-9ef2-2263bb23c770",
   "metadata": {},
   "source": [
    "## ```pwd```\n",
    "Comando para conocer la ruta en la que nos encontramos."
   ]
  },
  {
   "cell_type": "code",
   "execution_count": 4,
   "id": "69f70081-9945-4496-bfe5-cd8424564eeb",
   "metadata": {},
   "outputs": [
    {
     "name": "stdout",
     "output_type": "stream",
     "text": [
      "/home/vagrant/jupyter\n"
     ]
    }
   ],
   "source": [
    "pwd"
   ]
  },
  {
   "cell_type": "markdown",
   "id": "f47931f2-18d6-4877-b3c4-c1fa0557cc53",
   "metadata": {},
   "source": [
    "## ```ls```\n",
    "Comando para listar los archivos y directorios de la ruta en la que nos encontramos."
   ]
  },
  {
   "cell_type": "code",
   "execution_count": 1,
   "id": "6a05ff67-0ab8-4d58-b938-e969736f2086",
   "metadata": {},
   "outputs": [
    {
     "name": "stdout",
     "output_type": "stream",
     "text": [
      "1-comandos-basicos.ipynb\n"
     ]
    }
   ],
   "source": [
    "ls"
   ]
  },
  {
   "cell_type": "markdown",
   "id": "c18f0866-ec1f-4ca8-920d-ef495b5a0e04",
   "metadata": {},
   "source": [
    "Parámetro ```--help``` para ver la ayuda del comando."
   ]
  },
  {
   "cell_type": "code",
   "execution_count": 2,
   "id": "7bda4a16-2838-463e-b50a-334be02c46fc",
   "metadata": {},
   "outputs": [
    {
     "name": "stdout",
     "output_type": "stream",
     "text": [
      "Modo de empleo: ls [OPCIÓN]... [FICHERO]...\n",
      "Muestra información acerca de los FICHEROs (del directorio actual por defecto).\n",
      "Ordena las entradas alfabéticamente si no se especifica ninguna de las\n",
      "opciones -cftuvSUX ni --sort.\n",
      "\n",
      "Los argumentos obligatorios para las opciones largas son también obligatorios\n",
      "para las opciones cortas.\n",
      "  -a, --all                  no oculta las entradas que comienzan con .\n",
      "  -A, --almost-all           no muestra las entradas . y .. implícitas\n",
      "      --author               con -l, imprime el autor de cada fichero\n",
      "  -b, --escape               imprime escapes en estilo C para los caracteres no\n",
      "                             gráficos\n",
      "      --block-size=SIZE      with -l, scale sizes by SIZE when printing them;\n",
      "                             e.g., '--block-size=M'; see SIZE format below\n",
      "\n",
      "  -B, --ignore-backups       do not list implied entries ending with ~\n",
      "  -c                         with -lt: sort by, and show, ctime (time of last\n",
      "                             modification of file status information);\n",
      "                             with -l: show ctime and sort by name;\n",
      "                             otherwise: sort by ctime, newest first\n",
      "\n",
      "  -C                         list entries by columns\n",
      "      --color[=WHEN]         color the output WHEN; more info below\n",
      "  -d, --directory            list directories themselves, not their contents\n",
      "  -D, --dired                generate output designed for Emacs' dired mode\n",
      "  -f                         list all entries in directory order\n",
      "  -F, --classify[=WHEN]      append indicator (one of */=>@|) to entries WHEN\n",
      "      --file-type            likewise, except do not append '*'\n",
      "      --format=WORD          across -x, commas -m, horizontal -x, long -l,\n",
      "                             single-column -1, verbose -l, vertical -C\n",
      "\n",
      "      --full-time            like -l --time-style=full-iso\n",
      "  -g                         como -l, pero no lista el propietario\n",
      "      --group-directories-first\n",
      "                             group directories before files;\n",
      "                             can be augmented with a --sort option, but any\n",
      "                             use of --sort=none (-U) disables grouping\n",
      "\n",
      "  -G, --no-group             in a long listing, don't print group names\n",
      "  -h, --human-readable       with -l and -s, print sizes like 1K 234M 2G etc.\n",
      "      --si                   likewise, but use powers of 1000 not 1024\n",
      "  -H, --dereference-command-line\n",
      "                             follow symbolic links listed on the command line\n",
      "      --dereference-command-line-symlink-to-dir\n",
      "                             follow each command line symbolic link\n",
      "                             that points to a directory\n",
      "\n",
      "      --hide=PATTERN         do not list implied entries matching shell PATTERN\n",
      "                             (overridden by -a or -A)\n",
      "\n",
      "      --hyperlink[=WHEN]     hyperlink file names WHEN\n",
      "      --indicator-style=WORD\n",
      "                             append indicator with style WORD to entry names:\n",
      "                             none (default), slash (-p),\n",
      "                             file-type (--file-type), classify (-F)\n",
      "\n",
      "  -i, --inode                print the index number of each file\n",
      "  -I, --ignore=PATTERN       do not list implied entries matching shell PATTERN\n",
      "  -k, --kibibytes            default to 1024-byte blocks for file system usage;\n",
      "                             used only with -s and per directory totals\n",
      "\n",
      "  -l                         use a long listing format\n",
      "  -L, --dereference          when showing file information for a symbolic\n",
      "                             link, show information for the file the link\n",
      "                             references rather than for the link itself\n",
      "\n",
      "  -m                         fill width with a comma separated list of entries\n",
      "  -n, --numeric-uid-gid      like -l, but list numeric user and group IDs\n",
      "  -N, --literal              print entry names without quoting\n",
      "  -o                         like -l, but do not list group information\n",
      "  -p, --indicator-style=slash\n",
      "                             append / indicator to directories\n",
      "  -q, --hide-control-chars   print ? instead of nongraphic characters\n",
      "      --show-control-chars   show nongraphic characters as-is (the default,\n",
      "                             unless program is 'ls' and output is a terminal)\n",
      "\n",
      "  -Q, --quote-name           enclose entry names in double quotes\n",
      "      --quoting-style=WORD   use quoting style WORD for entry names:\n",
      "                             literal, locale, shell, shell-always,\n",
      "                             shell-escape, shell-escape-always, c, escape\n",
      "                             (overrides QUOTING_STYLE environment variable)\n",
      "\n",
      "  -r, --reverse              invierte el orden, en su caso\n",
      "  -R, --recursive            muestra los subdirectorios recursivamente\n",
      "  -s, --size                 muestra el tamaño de cada fichero, en bloques\n",
      "  -S                         sort by file size, largest first\n",
      "      --sort=WORD            sort by WORD instead of name: none (-U), size (-S),\n",
      "                             time (-t), version (-v), extension (-X), width\n",
      "\n",
      "      --time=WORD            change the default of using modification times;\n",
      "                               access time (-u): atime, access, use;\n",
      "                               change time (-c): ctime, status;\n",
      "                               birth time: birth, creation;\n",
      "                             with -l, WORD determines which time to show;\n",
      "                             with --sort=time, sort by WORD (newest first)\n",
      "\n",
      "      --time-style=TIME_STYLE\n",
      "                             time/date format with -l; see TIME_STYLE below\n",
      "  -t                         sort by time, newest first; see --time\n",
      "  -T, --tabsize=COLS         assume tab stops at each COLS instead of 8\n",
      "  -u                         with -lt: sort by, and show, access time;\n",
      "                             with -l: show access time and sort by name;\n",
      "                             otherwise: sort by access time, newest first\n",
      "\n",
      "  -U                         do not sort; list entries in directory order\n",
      "  -v                         natural sort of (version) numbers within text\n",
      "  -w, --width=COLS           set output width to COLS.  0 means no limit\n",
      "  -x                         list entries by lines instead of by columns\n",
      "  -X                         sort alphabetically by entry extension\n",
      "  -Z, --context              print any security context of each file\n",
      "      --zero                 end each output line with NUL, not newline\n",
      "  -1                         list one file per line\n",
      "      --help        display this help and exit\n",
      "      --version     output version information and exit\n",
      "\n",
      "The SIZE argument is an integer and optional unit (example: 10K is 10*1024).\n",
      "Units are K,M,G,T,P,E,Z,Y (powers of 1024) or KB,MB,... (powers of 1000).\n",
      "Binary prefixes can be used, too: KiB=K, MiB=M, and so on.\n",
      "\n",
      "The TIME_STYLE argument can be full-iso, long-iso, iso, locale, or +FORMAT.\n",
      "FORMAT is interpreted like in date(1).  If FORMAT is FORMAT1<newline>FORMAT2,\n",
      "then FORMAT1 applies to non-recent files and FORMAT2 to recent files.\n",
      "TIME_STYLE prefixed with 'posix-' takes effect only outside the POSIX locale.\n",
      "Also the TIME_STYLE environment variable sets the default style to use.\n",
      "\n",
      "The WHEN argument defaults to 'always' and can also be 'auto' or 'never'.\n",
      "\n",
      "Using color to distinguish file types is disabled both by default and\n",
      "with --color=never.  With --color=auto, ls emits color codes only when\n",
      "standard output is connected to a terminal.  The LS_COLORS environment\n",
      "variable can change the settings.  Use the dircolors(1) command to set it.\n",
      "\n",
      "Estado de salida:\n",
      " 0  si todo fue bien\n",
      " 1  si hubo problemas menores (p. ej., no poder acceder a un subdirectorio),\n",
      " 2  si hubo un serio problema (p. ej., no se puede acceder al argumento de la\n",
      "                                 línea de órdenes)\n",
      "\n",
      "ayuda en línea sobre GNU coreutils: <https://www.gnu.org/software/coreutils/>\n",
      "Report any translation bugs to <https://translationproject.org/team/>\n",
      "Full documentation <https://www.gnu.org/software/coreutils/ls>\n",
      "or available locally via: info '(coreutils) ls invocation'\n"
     ]
    }
   ],
   "source": [
    "ls --help"
   ]
  },
  {
   "cell_type": "markdown",
   "id": "a766f438-52b6-40cc-9a1c-1aa563feda65",
   "metadata": {},
   "source": [
    "Parámetro para visualizar los archivos y los archivos ocultos del directorio."
   ]
  },
  {
   "cell_type": "code",
   "execution_count": 3,
   "id": "903a7bf9-e123-4e4c-b469-4fb48bbdbcdd",
   "metadata": {},
   "outputs": [
    {
     "name": "stdout",
     "output_type": "stream",
     "text": [
      ".  ..  1-comandos-basicos.ipynb  .ipynb_checkpoints  .python-version\n"
     ]
    }
   ],
   "source": [
    "ls -a"
   ]
  },
  {
   "cell_type": "markdown",
   "id": "31f56bbd-899f-43f8-a876-3e7a6da570d6",
   "metadata": {},
   "source": [
    "Para visualizar sin los puntos que indican directorios padre."
   ]
  },
  {
   "cell_type": "code",
   "execution_count": 5,
   "id": "09542c25-bc6b-4731-8299-7d3b3a316bdb",
   "metadata": {},
   "outputs": [
    {
     "name": "stdout",
     "output_type": "stream",
     "text": [
      "1-comandos-basicos.ipynb  .ipynb_checkpoints  .python-version\n"
     ]
    }
   ],
   "source": [
    "ls -A"
   ]
  },
  {
   "cell_type": "markdown",
   "id": "3b3c998c-f323-44cf-9eb1-2eb989291a0c",
   "metadata": {},
   "source": [
    "Para visualizar archivos ocultos y por columnas:"
   ]
  },
  {
   "cell_type": "code",
   "execution_count": 6,
   "id": "4dff8b18-a17e-4e58-a64c-d892b4f1bfc5",
   "metadata": {},
   "outputs": [
    {
     "name": "stdout",
     "output_type": "stream",
     "text": [
      ".  ..  1-comandos-basicos.ipynb  .ipynb_checkpoints  .python-version\n"
     ]
    }
   ],
   "source": [
    "ls -aC"
   ]
  },
  {
   "cell_type": "markdown",
   "id": "e808a67f-8e46-44db-9af5-60f466d8875e",
   "metadata": {},
   "source": [
    "Con propiedades de los archivos"
   ]
  },
  {
   "cell_type": "code",
   "execution_count": 7,
   "id": "8912923a-a6fe-46e3-949a-7e8e2ebf3707",
   "metadata": {},
   "outputs": [
    {
     "name": "stdout",
     "output_type": "stream",
     "text": [
      "total 16\n",
      "-rw-r--r-- 1 vagrant vagrant 13257 nov  6 09:59 1-comandos-basicos.ipynb\n"
     ]
    }
   ],
   "source": [
    "ls -l"
   ]
  },
  {
   "cell_type": "code",
   "execution_count": 9,
   "id": "f307096a-f69d-44fc-a178-df43f58905c1",
   "metadata": {},
   "outputs": [
    {
     "name": "stdout",
     "output_type": "stream",
     "text": [
      "total 32\n",
      "drwxr-xr-x 3 vagrant vagrant  4096 nov  6 10:01 .\n",
      "drwx------ 9 vagrant vagrant  4096 nov  5 18:20 ..\n",
      "-rw-r--r-- 1 vagrant vagrant 14437 nov  6 10:01 1-comandos-basicos.ipynb\n",
      "drwxr-xr-x 2 vagrant vagrant  4096 nov  6 09:39 .ipynb_checkpoints\n",
      "-rw-r--r-- 1 vagrant vagrant     8 oct 30 15:30 .python-version\n"
     ]
    }
   ],
   "source": [
    "ls -al"
   ]
  },
  {
   "cell_type": "markdown",
   "id": "96c37373-8329-4f6e-be30-5da88e45cab4",
   "metadata": {},
   "source": [
    "Listar todos los archivos en formato extendido en reversa por orden de creación para lectura humana:"
   ]
  },
  {
   "cell_type": "code",
   "execution_count": 10,
   "id": "d4e6d3cd-69d0-4014-85f3-dc9d288f0630",
   "metadata": {},
   "outputs": [
    {
     "name": "stdout",
     "output_type": "stream",
     "text": [
      "total 32K\n",
      "-rw-r--r-- 1 vagrant vagrant    8 oct 30 15:30 .python-version\n",
      "drwx------ 9 vagrant vagrant 4.0K nov  5 18:20 ..\n",
      "drwxr-xr-x 2 vagrant vagrant 4.0K nov  6 09:39 .ipynb_checkpoints\n",
      "-rw-r--r-- 1 vagrant vagrant  15K nov  6 10:15 1-comandos-basicos.ipynb\n",
      "drwxr-xr-x 3 vagrant vagrant 4.0K nov  6 10:15 .\n"
     ]
    }
   ],
   "source": [
    "ls -larth"
   ]
  },
  {
   "cell_type": "markdown",
   "id": "0721318c-6ab9-4891-8d10-b6657acb4e1b",
   "metadata": {},
   "source": [
    "## ```cd```"
   ]
  },
  {
   "cell_type": "markdown",
   "id": "87732063-53c4-43a8-8d2c-23b4c5c52c5c",
   "metadata": {},
   "source": [
    "Para movernos entre directorios."
   ]
  },
  {
   "cell_type": "code",
   "execution_count": 12,
   "id": "09470b2f-66b3-4d5e-bfe3-ae890ef7b874",
   "metadata": {},
   "outputs": [
    {
     "name": "stdout",
     "output_type": "stream",
     "text": [
      "/home/vagrant/jupyter\n"
     ]
    }
   ],
   "source": [
    "pwd"
   ]
  },
  {
   "cell_type": "raw",
   "id": "061404f4-f3fa-4e72-9abc-c1e70fc39e39",
   "metadata": {},
   "source": [
    "Nos movemos un directorio hacia atrás:"
   ]
  },
  {
   "cell_type": "code",
   "execution_count": 20,
   "id": "b4eece81-9e6b-4aee-9e6b-258863c12d52",
   "metadata": {},
   "outputs": [],
   "source": [
    "cd .."
   ]
  },
  {
   "cell_type": "code",
   "execution_count": 21,
   "id": "774457af-c0ad-48ce-a6fe-8a851e3c331c",
   "metadata": {},
   "outputs": [
    {
     "name": "stdout",
     "output_type": "stream",
     "text": [
      "/home/vagrant\n"
     ]
    }
   ],
   "source": [
    "pwd"
   ]
  },
  {
   "cell_type": "markdown",
   "id": "17d1de55-9fb4-4ce1-8f17-f2665ad9e0b1",
   "metadata": {},
   "source": [
    "Para movernos dos directorios hacia atrás (o arriba) hacemos ```cd ../..```."
   ]
  },
  {
   "cell_type": "markdown",
   "id": "603db5e3-aeaa-4c67-a743-9109bb4eb30d",
   "metadata": {},
   "source": [
    "Variable de entorno ```$HOME``` como parámetro para llegar al home que es el usuario vagrant:"
   ]
  },
  {
   "cell_type": "code",
   "execution_count": 26,
   "id": "a515cf5f-aef2-4bba-94ce-2f8602692394",
   "metadata": {},
   "outputs": [],
   "source": [
    "cd jupyter"
   ]
  },
  {
   "cell_type": "code",
   "execution_count": 27,
   "id": "afb292e2-103d-4f1c-88ac-12a503892bfb",
   "metadata": {},
   "outputs": [],
   "source": [
    "cd $HOME"
   ]
  },
  {
   "cell_type": "code",
   "execution_count": 28,
   "id": "bd4960d0-9533-46f9-9d32-a11595b28fdf",
   "metadata": {},
   "outputs": [
    {
     "name": "stdout",
     "output_type": "stream",
     "text": [
      "/home/vagrant\n"
     ]
    }
   ],
   "source": [
    "pwd"
   ]
  }
 ],
 "metadata": {
  "kernelspec": {
   "display_name": "Bash",
   "language": "bash",
   "name": "bash"
  },
  "language_info": {
   "codemirror_mode": "shell",
   "file_extension": ".sh",
   "mimetype": "text/x-sh",
   "name": "bash"
  }
 },
 "nbformat": 4,
 "nbformat_minor": 5
}
