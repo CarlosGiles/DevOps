{
 "cells": [
  {
   "cell_type": "markdown",
   "id": "cb84588d-c9e9-4751-be4c-701c557e9913",
   "metadata": {},
   "source": [
    "# Variables de entorno en Linux\n",
    "Esta variables son pares clave-valor que afectan el comportamiento del sistema y de las aplicaciones en Linux. Algunas variables (en este caso globales) en Linux son:\n",
    "* ```PATH```\n",
    "* ```HOME```\n",
    "* ```USER```\n",
    "A estas variables se accede con ```$``` y usando el comando ```echo```."
   ]
  },
  {
   "cell_type": "markdown",
   "id": "477969b2-e51b-45b1-afe5-90477494de78",
   "metadata": {},
   "source": [
    "## Visualizar todas las variables de entorno (globales)"
   ]
  },
  {
   "cell_type": "code",
   "execution_count": 6,
   "id": "19dbfa7c-78ca-4e5f-8226-6148927be7b3",
   "metadata": {},
   "outputs": [
    {
     "name": "stdout",
     "output_type": "stream",
     "text": [
      "SHELL=/bin/bash\n",
      "PYENV_SHELL=bash\n",
      "LANGUAGE=es_MX:es\n",
      "PWD=/home/vagrant/jupyter/DevOps/6-Variable-de-entorno\n",
      "LOGNAME=vagrant\n",
      "JPY_SESSION_NAME=/home/vagrant/jupyter/DevOps/6-Variable-de-entorno/Untitled.ipynb\n",
      "SYSTEMD_EXEC_PID=524\n",
      "NOTEBOOK_BASH_KERNEL_CAPABILITIES=image,html,javascript\n",
      "HOME=/home/vagrant\n",
      "LANG=es_MX.UTF-8\n",
      "LS_COLORS=\n",
      "INVOCATION_ID=b8cadd39786a411e8a5217d84ce058b7\n",
      "JPY_PARENT_PID=528\n",
      "USER=vagrant\n",
      "SHLVL=2\n",
      "PAGER=cat\n",
      "PS1=PROMPT_YVDRPXZXIIDD\\[\\]>\n",
      "PYENV_ROOT=/home/vagrant/.pyenv\n",
      "JOURNAL_STREAM=8:14873\n",
      "PATH=/home/vagrant/.pyenv/shims:/home/vagrant/.pyenv/versions/3.11.0/bin:/home/vagrant/.pyenv/bin:/usr/local/bin:/usr/bin:/bin:/usr/local/games:/usr/games\n",
      "OLDPWD=/\n",
      "_=/usr/bin/env\n"
     ]
    }
   ],
   "source": [
    "env"
   ]
  },
  {
   "cell_type": "markdown",
   "id": "219b9952-d157-4abf-adc3-4ced7c461577",
   "metadata": {},
   "source": [
    "## Imprimir valor de una variable"
   ]
  },
  {
   "cell_type": "code",
   "execution_count": 2,
   "id": "1d670afc-361f-449a-8b1d-a0b53f09b7ea",
   "metadata": {},
   "outputs": [
    {
     "name": "stdout",
     "output_type": "stream",
     "text": [
      "/home/vagrant\n"
     ]
    }
   ],
   "source": [
    "echo $HOME"
   ]
  },
  {
   "cell_type": "code",
   "execution_count": 3,
   "id": "f0313db0-524c-4824-81da-9f0eaae32b83",
   "metadata": {},
   "outputs": [
    {
     "name": "stdout",
     "output_type": "stream",
     "text": [
      "/home/vagrant/jupyter/DevOps/6-Variable-de-entorno\n"
     ]
    }
   ],
   "source": [
    "echo $PWD"
   ]
  },
  {
   "cell_type": "code",
   "execution_count": 5,
   "id": "3080f27b-ec94-4836-9bb5-2b765fe50322",
   "metadata": {},
   "outputs": [
    {
     "name": "stdout",
     "output_type": "stream",
     "text": [
      "/home/vagrant/.pyenv/shims:/home/vagrant/.pyenv/versions/3.11.0/bin:/home/vagrant/.pyenv/bin:/usr/local/bin:/usr/bin:/bin:/usr/local/games:/usr/games\n"
     ]
    }
   ],
   "source": [
    "echo $PATH"
   ]
  },
  {
   "cell_type": "markdown",
   "id": "2efd2c53-906d-465d-bb37-68fdc50bfd60",
   "metadata": {},
   "source": [
    "## Variables de entorno locales o de sesión\n",
    "Estas variables son definidas por el usuario y solo están disponibles en el momento en que son creadas. Además, si abrimos un terminal adicional al que se usó para definir la variable y queremos acceder a ella, no estará disponible."
   ]
  },
  {
   "cell_type": "code",
   "execution_count": 7,
   "id": "8e53b244-8af3-4f86-85b7-a342abca18be",
   "metadata": {},
   "outputs": [],
   "source": [
    "HOLAVAR=\"Hola mundo local\""
   ]
  },
  {
   "cell_type": "code",
   "execution_count": 8,
   "id": "1d4a1a14-af85-4002-849b-a9567e52dfe9",
   "metadata": {},
   "outputs": [
    {
     "name": "stdout",
     "output_type": "stream",
     "text": [
      "Hola mundo local\n"
     ]
    }
   ],
   "source": [
    "echo $HOLAVAR"
   ]
  },
  {
   "cell_type": "markdown",
   "id": "d24ad6fc-3e7c-442f-932b-b00392ab5d53",
   "metadata": {},
   "source": [
    "## Crear variables globales"
   ]
  },
  {
   "cell_type": "code",
   "execution_count": 11,
   "id": "7d035adf-4b45-4d36-afc8-594965484688",
   "metadata": {},
   "outputs": [],
   "source": [
    "export HOLAVARGLOBAL=\"Hola mundo global\""
   ]
  },
  {
   "cell_type": "markdown",
   "id": "d8650fa4-3609-4325-bdb1-5392a19e0d6b",
   "metadata": {},
   "source": [
    "Ahora veremos la variable en las variables globales de Linux y puede ser usada desde cualquier sesión de intérprete:"
   ]
  },
  {
   "cell_type": "code",
   "execution_count": 13,
   "id": "2e610f33-dca2-4919-adf8-ebac3d601def",
   "metadata": {},
   "outputs": [
    {
     "name": "stdout",
     "output_type": "stream",
     "text": [
      "SHELL=/bin/bash\n",
      "PYENV_SHELL=bash\n",
      "LANGUAGE=es_MX:es\n",
      "HOLAVARGLOBAL=Hola mundo global\n",
      "PWD=/home/vagrant/jupyter/DevOps/6-Variable-de-entorno\n",
      "LOGNAME=vagrant\n",
      "JPY_SESSION_NAME=/home/vagrant/jupyter/DevOps/6-Variable-de-entorno/Untitled.ipynb\n",
      "SYSTEMD_EXEC_PID=524\n",
      "NOTEBOOK_BASH_KERNEL_CAPABILITIES=image,html,javascript\n",
      "HOME=/home/vagrant\n",
      "LANG=es_MX.UTF-8\n",
      "LS_COLORS=\n",
      "INVOCATION_ID=b8cadd39786a411e8a5217d84ce058b7\n",
      "JPY_PARENT_PID=528\n",
      "USER=vagrant\n",
      "SHLVL=2\n",
      "PAGER=cat\n",
      "PS1=PROMPT_YVDRPXZXIIDD\\[\\]>\n",
      "PYENV_ROOT=/home/vagrant/.pyenv\n",
      "JOURNAL_STREAM=8:14873\n",
      "PATH=/home/vagrant/.pyenv/shims:/home/vagrant/.pyenv/versions/3.11.0/bin:/home/vagrant/.pyenv/bin:/usr/local/bin:/usr/bin:/bin:/usr/local/games:/usr/games\n",
      "OLDPWD=/\n",
      "_=/usr/bin/env\n"
     ]
    }
   ],
   "source": [
    "env"
   ]
  },
  {
   "cell_type": "markdown",
   "id": "2f70b7b1-e3bb-4140-a5cd-52e90d037d2d",
   "metadata": {},
   "source": [
    "## Convertir una variable local a global"
   ]
  },
  {
   "cell_type": "code",
   "execution_count": 20,
   "id": "785e377e-8fc2-4b4f-b71e-7357c1bcfbd9",
   "metadata": {},
   "outputs": [],
   "source": [
    "# Definimos la variable\n",
    "HOLAlocal=\"hola local\""
   ]
  },
  {
   "cell_type": "code",
   "execution_count": 21,
   "id": "2ce510fe-5702-4ece-9d69-65f5e00a78bb",
   "metadata": {},
   "outputs": [
    {
     "name": "stdout",
     "output_type": "stream",
     "text": [
      "hola local\n"
     ]
    }
   ],
   "source": [
    "# Mostramos la variable\n",
    "echo $HOLAlocal"
   ]
  },
  {
   "cell_type": "code",
   "execution_count": 23,
   "id": "4a35d523-4feb-4669-8455-2e7ff97821ca",
   "metadata": {},
   "outputs": [],
   "source": [
    "# Exportamos la variable para volverla global\n",
    "export HOLAlocal"
   ]
  },
  {
   "cell_type": "code",
   "execution_count": 24,
   "id": "b04316f3-eed9-4301-a60f-d97d2f1821ac",
   "metadata": {},
   "outputs": [
    {
     "name": "stdout",
     "output_type": "stream",
     "text": [
      "SHELL=/bin/bash\n",
      "PYENV_SHELL=bash\n",
      "LANGUAGE=es_MX:es\n",
      "HOLAVARGLOBAL=Hola mundo global\n",
      "PWD=/home/vagrant/jupyter/DevOps/6-Variable-de-entorno\n",
      "LOGNAME=vagrant\n",
      "JPY_SESSION_NAME=/home/vagrant/jupyter/DevOps/6-Variable-de-entorno/Untitled.ipynb\n",
      "SYSTEMD_EXEC_PID=524\n",
      "NOTEBOOK_BASH_KERNEL_CAPABILITIES=image,html,javascript\n",
      "HOME=/home/vagrant\n",
      "LANG=es_MX.UTF-8\n",
      "LS_COLORS=\n",
      "INVOCATION_ID=b8cadd39786a411e8a5217d84ce058b7\n",
      "JPY_PARENT_PID=528\n",
      "USER=vagrant\n",
      "SHLVL=2\n",
      "PAGER=cat\n",
      "HOLAlocal=hola local\n",
      "PS1=PROMPT_YVDRPXZXIIDD\\[\\]>\n",
      "PYENV_ROOT=/home/vagrant/.pyenv\n",
      "JOURNAL_STREAM=8:14873\n",
      "PATH=/home/vagrant/.pyenv/shims:/home/vagrant/.pyenv/versions/3.11.0/bin:/home/vagrant/.pyenv/bin:/usr/local/bin:/usr/bin:/bin:/usr/local/games:/usr/games\n",
      "OLDPWD=/\n",
      "_=/usr/bin/env\n"
     ]
    }
   ],
   "source": [
    "env"
   ]
  },
  {
   "cell_type": "markdown",
   "id": "f0100162-0838-435e-915c-24b3a8c366ee",
   "metadata": {},
   "source": [
    "## Acceder a una variable desde un script"
   ]
  },
  {
   "cell_type": "markdown",
   "id": "a24500ab-41b3-49e8-9e0d-f87fb0a69b2a",
   "metadata": {},
   "source": [
    "Tenemos en este mismo directorio un archivo llamado ```variables.sh``` con el siguiente código:\n",
    "```bash\n",
    "#!/bin/bash\n",
    "\n",
    "echo $HOLAVAR\n",
    "\n",
    "echo $HOLAVARGLOBAL\n",
    "\n",
    "echo $HOLAlocal\n",
    "```"
   ]
  },
  {
   "attachments": {
    "b93fd4f4-80ec-4d18-958a-dc791c95f50d.png": {
     "image/png": "[encoded data removed]"
    }
   },
   "cell_type": "markdown",
   "id": "213c208d-cd8e-4f00-b304-866a177f97f7",
   "metadata": {},
   "source": [
    "Ejecutamos el archivo:\n",
    "\n",
    "![imagen.png](attachment:b93fd4f4-80ec-4d18-958a-dc791c95f50d.png)"
   ]
  },
  {
   "cell_type": "markdown",
   "id": "9327500c-e5e2-45e1-af49-3419b210206d",
   "metadata": {},
   "source": [
    "Como podemos ver, se accedió correctamente a las variables globales que son ```HOLAVARGLOBAL``` y ```HOLAlocal```"
   ]
  }
 ],
 "metadata": {
  "kernelspec": {
   "display_name": "Bash",
   "language": "bash",
   "name": "bash"
  },
  "language_info": {
   "codemirror_mode": "shell",
   "file_extension": ".sh",
   "mimetype": "text/x-sh",
   "name": "bash"
  }
 },
 "nbformat": 4,
 "nbformat_minor": 5
}
