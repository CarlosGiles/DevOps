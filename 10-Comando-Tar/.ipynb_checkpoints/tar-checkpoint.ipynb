{
 "cells": [
  {
   "cell_type": "markdown",
   "id": "bbece9f3-d665-4967-b60e-b9e76441fa1e",
   "metadata": {},
   "source": [
    "# Comprimir - Comando `tar`\n",
    "`tar` es un comando que nos permite crear un paquete de archivos, normalmente sin comprimir. Este formato de archivos empaquetados es una opción más genérica del formato `.deb` usado en distribuciones como **Debian**.\n",
    "Existe la versión `.tar.gz` que es un paqete `tar` comprimido con `gunzip`."
   ]
  },
  {
   "cell_type": "markdown",
   "id": "de5c3248-99d6-4836-b488-60707fe58557",
   "metadata": {},
   "source": [
    "Crearemos un `DevOps-Backup.tar` que será el respaldo de nuestros notebooks en el directorio `DevOps`. Para ello, nos ubicaremos en la carpeta `jupyter` que contiene a DevOps:"
   ]
  },
  {
   "cell_type": "code",
   "execution_count": 1,
   "id": "d08d87f0-2497-4cc0-a336-e12cff4fa44f",
   "metadata": {},
   "outputs": [
    {
     "name": "stdout",
     "output_type": "stream",
     "text": [
      "/home/vagrant/jupyter/DevOps/10-Comando-Tar\n"
     ]
    }
   ],
   "source": [
    "pwd"
   ]
  },
  {
   "cell_type": "markdown",
   "id": "ccaee336-8804-4126-9101-a28a29bf3b86",
   "metadata": {},
   "source": [
    "Retrocedemos dos niveles en el directorio:"
   ]
  },
  {
   "cell_type": "code",
   "execution_count": 2,
   "id": "c5d9abac-b632-42b3-a67e-3b78bec8c33c",
   "metadata": {},
   "outputs": [],
   "source": [
    "cd ../.."
   ]
  },
  {
   "cell_type": "markdown",
   "id": "15875fc8-cada-4a14-9b29-2947fec3521d",
   "metadata": {},
   "source": [
    "Verificamos la ruta nuevamente:"
   ]
  },
  {
   "cell_type": "code",
   "execution_count": 3,
   "id": "2e8a40d3-1055-4f56-a4f4-91ca49cd1c88",
   "metadata": {},
   "outputs": [
    {
     "name": "stdout",
     "output_type": "stream",
     "text": [
      "/home/vagrant/jupyter\n"
     ]
    }
   ],
   "source": [
    "pwd"
   ]
  },
  {
   "cell_type": "markdown",
   "id": "350562ec-f9f9-44e6-860e-fc6d0c72b2c1",
   "metadata": {},
   "source": [
    "Listamos los archivos y directorios en `jupyter/`"
   ]
  },
  {
   "cell_type": "code",
   "execution_count": 4,
   "id": "8db24826-d658-4f0c-a467-a4ccc559ea9c",
   "metadata": {},
   "outputs": [
    {
     "name": "stdout",
     "output_type": "stream",
     "text": [
      "DevOps\tGitHub.md\n"
     ]
    }
   ],
   "source": [
    "ls"
   ]
  },
  {
   "cell_type": "markdown",
   "id": "ce8292f1-f2ba-411c-b6b0-f029def99725",
   "metadata": {},
   "source": [
    "Listamos los archivos y directorios dentro de `DevOps/`"
   ]
  },
  {
   "cell_type": "code",
   "execution_count": 5,
   "id": "43f7dad8-3eb5-4f24-8369-1183758f4e74",
   "metadata": {},
   "outputs": [
    {
     "name": "stdout",
     "output_type": "stream",
     "text": [
      "total 44\n",
      "drwxr-xr-x 3 vagrant vagrant 4096 abr 10 12:52 10-Comando-Tar\n",
      "drwxr-xr-x 2 vagrant vagrant 4096 feb 15 13:50 1-Intalar-Ubuntu-MV-VirtualBox\n",
      "drwxr-xr-x 2 vagrant vagrant 4096 feb 15 13:50 2-Entrar-y-configurar-Debian\n",
      "drwxr-xr-x 3 vagrant vagrant 4096 feb 15 13:50 3-Bash\n",
      "drwxr-xr-x 2 vagrant vagrant 4096 feb 15 13:50 4-Stakeholders\n",
      "drwxr-xr-x 3 vagrant vagrant 4096 feb 15 13:50 5-Linux-y-FHS\n",
      "drwxr-xr-x 3 vagrant vagrant 4096 feb 25 16:18 6-Variable-de-entorno\n",
      "drwxr-xr-x 3 vagrant vagrant 4096 feb 26 16:58 7-Cron\n",
      "drwxr-xr-x 4 vagrant vagrant 4096 feb 15 13:50 8-Practica-1\n",
      "drwxr-xr-x 3 vagrant vagrant 4096 feb 15 13:50 9-Agile-Scrum\n",
      "-rw-r--r-- 1 vagrant vagrant 1463 feb 15 13:50 README.md\n"
     ]
    }
   ],
   "source": [
    "ls -l DevOps/"
   ]
  },
  {
   "cell_type": "markdown",
   "id": "66c1abbf-dad1-43e8-ad5e-014b7c9f43c6",
   "metadata": {},
   "source": [
    "## Creación de paquetes con `tar -cf`"
   ]
  },
  {
   "cell_type": "code",
   "execution_count": 6,
   "id": "73deb781-806c-4935-84bf-cdfed16649ff",
   "metadata": {},
   "outputs": [],
   "source": [
    "tar -cf DevOps-Backup.tar DevOps"
   ]
  },
  {
   "cell_type": "markdown",
   "id": "6f839e48-0487-4fbb-a907-1aee40e01d2c",
   "metadata": {},
   "source": [
    "Verificamos nuevamente los archivos y directorios para ver el paquete:"
   ]
  },
  {
   "cell_type": "code",
   "execution_count": 7,
   "id": "7c5c44b1-6b3c-44ef-9da3-ee908e05b4ed",
   "metadata": {},
   "outputs": [
    {
     "name": "stdout",
     "output_type": "stream",
     "text": [
      "total 2820\n",
      "drwxr-xr-x 14 vagrant vagrant    4096 abr 10 12:52 DevOps\n",
      "-rw-r--r--  1 vagrant vagrant 2877440 abr 10 12:57 DevOps-Backup.tar\n",
      "-rw-r--r--  1 vagrant vagrant      76 feb 15 13:54 GitHub.md\n"
     ]
    }
   ],
   "source": [
    "ls -l"
   ]
  },
  {
   "cell_type": "markdown",
   "id": "c7529111-6275-4046-b9c8-ba4ce270233d",
   "metadata": {},
   "source": [
    "Movemos este archivo/paquete de respaldo al `home`:"
   ]
  },
  {
   "cell_type": "code",
   "execution_count": 9,
   "id": "51e24769-af1a-4c5c-8046-47a1c4a37b77",
   "metadata": {},
   "outputs": [],
   "source": [
    "sudo mv DevOps-Backup.tar ../../"
   ]
  },
  {
   "cell_type": "markdown",
   "id": "c3f55440-2c5c-47c5-b34d-9ac9442d105c",
   "metadata": {},
   "source": [
    "Nos movemos a `home`:"
   ]
  },
  {
   "cell_type": "code",
   "execution_count": 10,
   "id": "754d4a90-0d1d-47b9-8d6b-6ef0dafa96ef",
   "metadata": {},
   "outputs": [],
   "source": [
    "cd ../../"
   ]
  },
  {
   "cell_type": "markdown",
   "id": "5178c453-175f-479e-a31a-bab0116255ba",
   "metadata": {},
   "source": [
    "Verificamos nuestra posición:"
   ]
  },
  {
   "cell_type": "code",
   "execution_count": 11,
   "id": "937eb42b-aee8-4852-84fa-a1e48a02900c",
   "metadata": {},
   "outputs": [
    {
     "name": "stdout",
     "output_type": "stream",
     "text": [
      "/home\n"
     ]
    }
   ],
   "source": [
    "pwd"
   ]
  },
  {
   "cell_type": "markdown",
   "id": "4a889040-b4b8-46af-a24c-972f97d8638f",
   "metadata": {},
   "source": [
    "Listamos los archivos y directorios en `home` y veremos, al menos, el paquete y nuestro usuario:"
   ]
  },
  {
   "cell_type": "code",
   "execution_count": 12,
   "id": "38126265-c071-4b72-9d87-682b11558b09",
   "metadata": {},
   "outputs": [
    {
     "name": "stdout",
     "output_type": "stream",
     "text": [
      "total 2816\n",
      "-rw-r--r-- 1 vagrant vagrant 2877440 abr 10 12:57 DevOps-Backup.tar\n",
      "drwx------ 9 vagrant vagrant    4096 feb 15 13:06 vagrant\n"
     ]
    }
   ],
   "source": [
    "ls -l"
   ]
  },
  {
   "cell_type": "markdown",
   "id": "fe36aaab-c235-4073-a134-8d41fd1f8da3",
   "metadata": {},
   "source": [
    "## Ver archivos sin desempaquetar\n",
    "Usaremos `tar` con los parámetros `-tvf` para ver los archivos del paquete.\n",
    "\n",
    "**Parámetros:**\n",
    "- `t`: listar.\n",
    "- `v`: verbose, muestra información.\n",
    "- `f`: archivo/file."
   ]
  },
  {
   "cell_type": "code",
   "execution_count": 13,
   "id": "59d84ab1-b1c3-485f-8f11-02daf31d6fc8",
   "metadata": {},
   "outputs": [
    {
     "name": "stdout",
     "output_type": "stream",
     "text": [
      "drwxr-xr-x vagrant/vagrant   0 2025-04-10 12:52 DevOps/\n",
      "drwxr-xr-x vagrant/vagrant   0 2025-04-10 12:51 DevOps/.ipynb_checkpoints/\n",
      "drwxr-xr-x vagrant/vagrant   0 2025-02-15 13:50 DevOps/2-Entrar-y-configurar-Debian/\n",
      "-rw-r--r-- vagrant/vagrant 2588 2025-02-15 13:50 DevOps/2-Entrar-y-configurar-Debian/1-Entrar-a-Debian-y-permisos.md\n",
      "-rw-r--r-- vagrant/vagrant 2886 2025-02-15 13:50 DevOps/2-Entrar-y-configurar-Debian/5-Jupyter-y-jupyterlab.md\n",
      "-rw-r--r-- vagrant/vagrant  128 2025-02-15 13:50 DevOps/2-Entrar-y-configurar-Debian/readme.md\n",
      "-rw-r--r-- vagrant/vagrant 1358 2025-02-15 13:50 DevOps/2-Entrar-y-configurar-Debian/2-ssh-y-bash.md\n",
      "-rw-r--r-- vagrant/vagrant 3716 2025-02-15 13:50 DevOps/2-Entrar-y-configurar-Debian/3-jupyter-en-mv-desde-terminal.md\n",
      "-rw-r--r-- vagrant/vagrant  709 2025-02-15 13:50 DevOps/2-Entrar-y-configurar-Debian/4-Instalar-version-global-python.md\n",
      "-rw-r--r-- vagrant/vagrant 2530 2025-02-15 13:50 DevOps/2-Entrar-y-configurar-Debian/6-crear-servicio-automatico.md\n",
      "drwxr-xr-x vagrant/vagrant    0 2025-02-15 13:50 DevOps/9-Agile-Scrum/\n",
      "drwxr-xr-x vagrant/vagrant    0 2025-02-15 13:50 DevOps/9-Agile-Scrum/.ipynb_checkpoints/\n",
      "-rw-r--r-- vagrant/vagrant 8967 2025-02-15 13:50 DevOps/9-Agile-Scrum/.ipynb_checkpoints/1-Agile-Scrum-checkpoint.ipynb\n",
      "-rw-r--r-- vagrant/vagrant 8967 2025-02-15 13:50 DevOps/9-Agile-Scrum/1-Agile-Scrum.ipynb\n",
      "drwxr-xr-x vagrant/vagrant    0 2025-02-15 13:50 DevOps/4-Stakeholders/\n",
      "-rw-r--r-- vagrant/vagrant    0 2025-02-15 13:50 DevOps/4-Stakeholders/readme.md\n",
      "drwxr-xr-x vagrant/vagrant    0 2025-02-15 13:50 DevOps/8-Practica-1/\n",
      "drwxr-xr-x vagrant/vagrant    0 2025-02-15 13:50 DevOps/8-Practica-1/.ipynb_checkpoints/\n",
      "-rw-r--r-- vagrant/vagrant  732 2025-02-15 13:50 DevOps/8-Practica-1/.ipynb_checkpoints/descargar_imagen-checkpoint.sh\n",
      "-rw-r--r-- vagrant/vagrant 3217 2025-02-15 13:50 DevOps/8-Practica-1/.ipynb_checkpoints/1-Practiva-checkpoint.ipynb\n",
      "-rw-r--r-- vagrant/vagrant 8658 2025-02-15 13:50 DevOps/8-Practica-1/1-Practiva.ipynb\n",
      "drwxr-xr-x vagrant/vagrant    0 2025-02-15 13:50 DevOps/8-Practica-1/imagenes/\n",
      "drwxr-xr-x vagrant/vagrant    0 2025-02-15 13:50 DevOps/8-Practica-1/imagenes/.ipynb_checkpoints/\n",
      "-rw-r--r-- vagrant/vagrant 1896 2025-02-15 13:50 DevOps/8-Practica-1/imagenes/.ipynb_checkpoints/descarga-checkpoint.log\n",
      "-rw-r--r-- vagrant/vagrant   20 2025-02-15 13:50 DevOps/8-Practica-1/imagenes/.ipynb_checkpoints/imagenes_descargadas-checkpoint.log\n",
      "-rw-r--r-- vagrant/vagrant 3949 2025-02-15 13:50 DevOps/8-Practica-1/imagenes/descarga.log\n",
      "-rw-r--r-- vagrant/vagrant   40 2025-02-15 13:50 DevOps/8-Practica-1/imagenes/imagenes_descargadas.log\n",
      "-rw-r--r-- vagrant/vagrant 64027 2025-02-15 13:50 DevOps/8-Practica-1/imagenes/wallpaper-32012.jpg\n",
      "-rw-r--r-- vagrant/vagrant 157781 2025-02-15 13:50 DevOps/8-Practica-1/imagenes/wallpaper-31993.jpg\n",
      "-rw-r--r-- vagrant/vagrant    732 2025-02-15 13:50 DevOps/8-Practica-1/descargar_imagen.sh\n",
      "drwxr-xr-x vagrant/vagrant      0 2025-02-15 13:50 DevOps/.git/\n",
      "drwxr-xr-x vagrant/vagrant      0 2025-02-15 13:50 DevOps/.git/refs/\n",
      "drwxr-xr-x vagrant/vagrant      0 2025-02-15 13:50 DevOps/.git/refs/heads/\n",
      "-rw-r--r-- vagrant/vagrant     41 2025-02-15 13:50 DevOps/.git/refs/heads/main\n",
      "drwxr-xr-x vagrant/vagrant      0 2025-02-15 13:50 DevOps/.git/refs/remotes/\n",
      "drwxr-xr-x vagrant/vagrant      0 2025-02-15 13:50 DevOps/.git/refs/remotes/origin/\n",
      "-rw-r--r-- vagrant/vagrant     30 2025-02-15 13:50 DevOps/.git/refs/remotes/origin/HEAD\n",
      "drwxr-xr-x vagrant/vagrant      0 2025-02-15 13:50 DevOps/.git/refs/tags/\n",
      "-rw-r--r-- vagrant/vagrant    112 2025-02-15 13:50 DevOps/.git/packed-refs\n",
      "-rw-r--r-- vagrant/vagrant   5001 2025-02-15 13:50 DevOps/.git/index\n",
      "drwxr-xr-x vagrant/vagrant      0 2025-02-15 13:50 DevOps/.git/logs/\n",
      "drwxr-xr-x vagrant/vagrant      0 2025-02-15 13:50 DevOps/.git/logs/refs/\n",
      "drwxr-xr-x vagrant/vagrant      0 2025-02-15 13:50 DevOps/.git/logs/refs/heads/\n",
      "-rw-r--r-- vagrant/vagrant    187 2025-02-15 13:50 DevOps/.git/logs/refs/heads/main\n",
      "drwxr-xr-x vagrant/vagrant      0 2025-02-15 13:50 DevOps/.git/logs/refs/remotes/\n",
      "drwxr-xr-x vagrant/vagrant      0 2025-02-15 13:50 DevOps/.git/logs/refs/remotes/origin/\n",
      "-rw-r--r-- vagrant/vagrant    187 2025-02-15 13:50 DevOps/.git/logs/refs/remotes/origin/HEAD\n",
      "-rw-r--r-- vagrant/vagrant    187 2025-02-15 13:50 DevOps/.git/logs/HEAD\n",
      "-rw-r--r-- vagrant/vagrant    262 2025-02-15 13:50 DevOps/.git/config\n",
      "-rw-r--r-- vagrant/vagrant     21 2025-02-15 13:50 DevOps/.git/HEAD\n",
      "drwxr-xr-x vagrant/vagrant      0 2025-02-15 13:50 DevOps/.git/hooks/\n",
      "-rwxr-xr-x vagrant/vagrant   4898 2025-02-15 13:50 DevOps/.git/hooks/pre-rebase.sample\n",
      "-rwxr-xr-x vagrant/vagrant    424 2025-02-15 13:50 DevOps/.git/hooks/pre-applypatch.sample\n",
      "-rwxr-xr-x vagrant/vagrant    544 2025-02-15 13:50 DevOps/.git/hooks/pre-receive.sample\n",
      "-rwxr-xr-x vagrant/vagrant   1374 2025-02-15 13:50 DevOps/.git/hooks/pre-push.sample\n",
      "-rwxr-xr-x vagrant/vagrant   2783 2025-02-15 13:50 DevOps/.git/hooks/push-to-checkout.sample\n",
      "-rwxr-xr-x vagrant/vagrant   1492 2025-02-15 13:50 DevOps/.git/hooks/prepare-commit-msg.sample\n",
      "-rwxr-xr-x vagrant/vagrant    416 2025-02-15 13:50 DevOps/.git/hooks/pre-merge-commit.sample\n",
      "-rwxr-xr-x vagrant/vagrant    478 2025-02-15 13:50 DevOps/.git/hooks/applypatch-msg.sample\n",
      "-rwxr-xr-x vagrant/vagrant   4726 2025-02-15 13:50 DevOps/.git/hooks/fsmonitor-watchman.sample\n",
      "-rwxr-xr-x vagrant/vagrant   3650 2025-02-15 13:50 DevOps/.git/hooks/update.sample\n",
      "-rwxr-xr-x vagrant/vagrant   1643 2025-02-15 13:50 DevOps/.git/hooks/pre-commit.sample\n",
      "-rwxr-xr-x vagrant/vagrant    896 2025-02-15 13:50 DevOps/.git/hooks/commit-msg.sample\n",
      "-rwxr-xr-x vagrant/vagrant    189 2025-02-15 13:50 DevOps/.git/hooks/post-update.sample\n",
      "drwxr-xr-x vagrant/vagrant      0 2025-02-15 13:50 DevOps/.git/info/\n",
      "-rw-r--r-- vagrant/vagrant    240 2025-02-15 13:50 DevOps/.git/info/exclude\n",
      "drwxr-xr-x vagrant/vagrant      0 2025-02-15 13:50 DevOps/.git/objects/\n",
      "drwxr-xr-x vagrant/vagrant      0 2025-02-15 13:50 DevOps/.git/objects/info/\n",
      "drwxr-xr-x vagrant/vagrant      0 2025-02-15 13:50 DevOps/.git/objects/pack/\n",
      "-r--r--r-- vagrant/vagrant 887464 2025-02-15 13:50 DevOps/.git/objects/pack/pack-5ee2d04150143678ce39b5bf44596e0cc48aea5c.pack\n",
      "-r--r--r-- vagrant/vagrant   9304 2025-02-15 13:50 DevOps/.git/objects/pack/pack-5ee2d04150143678ce39b5bf44596e0cc48aea5c.idx\n",
      "drwxr-xr-x vagrant/vagrant      0 2025-02-15 13:50 DevOps/.git/branches/\n",
      "-rw-r--r-- vagrant/vagrant     73 2025-02-15 13:50 DevOps/.git/description\n",
      "drwxr-xr-x vagrant/vagrant      0 2025-02-15 13:50 DevOps/5-Linux-y-FHS/\n",
      "drwxr-xr-x vagrant/vagrant      0 2025-02-15 13:50 DevOps/5-Linux-y-FHS/.ipynb_checkpoints/\n",
      "-rw-r--r-- vagrant/vagrant   1074 2025-02-15 13:50 DevOps/5-Linux-y-FHS/.ipynb_checkpoints/1-FHS-checkpoint.md\n",
      "-rw-r--r-- vagrant/vagrant      0 2025-02-15 13:50 DevOps/5-Linux-y-FHS/readme.md\n",
      "-rw-r--r-- vagrant/vagrant   1074 2025-02-15 13:50 DevOps/5-Linux-y-FHS/1-FHS.md\n",
      "drwxr-xr-x vagrant/vagrant      0 2025-04-10 12:56 DevOps/10-Comando-Tar/\n",
      "drwxr-xr-x vagrant/vagrant      0 2025-04-10 12:52 DevOps/10-Comando-Tar/.ipynb_checkpoints/\n",
      "-rw-r--r-- vagrant/vagrant     72 2025-04-10 12:52 DevOps/10-Comando-Tar/.ipynb_checkpoints/tar-checkpoint.ipynb\n",
      "-rw-r--r-- vagrant/vagrant   2670 2025-04-10 12:56 DevOps/10-Comando-Tar/tar.ipynb\n",
      "-rw-r--r-- vagrant/vagrant   1463 2025-02-15 13:50 DevOps/README.md\n",
      "drwxr-xr-x vagrant/vagrant      0 2025-02-15 13:50 DevOps/3-Bash/\n",
      "drwxr-xr-x vagrant/vagrant      0 2025-02-15 13:50 DevOps/3-Bash/.ipynb_checkpoints/\n",
      "-rw-r--r-- vagrant/vagrant 143945 2025-02-15 13:50 DevOps/3-Bash/.ipynb_checkpoints/1-comandos-basicos-checkpoint.ipynb\n",
      "-rw-r--r-- vagrant/vagrant      1 2025-02-15 13:50 DevOps/3-Bash/readme.md\n",
      "-rw-r--r-- vagrant/vagrant 143945 2025-02-15 13:50 DevOps/3-Bash/1-comandos-basicos.ipynb\n",
      "drwxr-xr-x vagrant/vagrant      0 2025-02-25 16:18 DevOps/6-Variable-de-entorno/\n",
      "drwxr-xr-x vagrant/vagrant      0 2025-02-25 16:18 DevOps/6-Variable-de-entorno/.ipynb_checkpoints/\n",
      "-rw-r--r-- vagrant/vagrant  67268 2025-02-15 13:50 DevOps/6-Variable-de-entorno/.ipynb_checkpoints/1-variables-de-entorno-checkpoint.ipynb\n",
      "-rw-r--r-- vagrant/vagrant     65 2025-02-15 13:50 DevOps/6-Variable-de-entorno/.ipynb_checkpoints/variables-checkpoint.sh\n",
      "-rw-r--r-- vagrant/vagrant 209453 2025-02-15 13:50 DevOps/6-Variable-de-entorno/.ipynb_checkpoints/2-Persistencia-checkpoint.ipynb\n",
      "-rw-r--r-- vagrant/vagrant     65 2025-02-15 13:50 DevOps/6-Variable-de-entorno/variables.sh\n",
      "-rw-r--r-- vagrant/vagrant 209453 2025-02-15 13:50 DevOps/6-Variable-de-entorno/2-Persistencia.ipynb\n",
      "-rw-r--r-- vagrant/vagrant  67268 2025-02-15 13:50 DevOps/6-Variable-de-entorno/1-variables-de-entorno.ipynb\n",
      "drwxr-xr-x vagrant/vagrant      0 2025-02-15 13:50 DevOps/1-Intalar-Ubuntu-MV-VirtualBox/\n",
      "-rw-r--r-- vagrant/vagrant    792 2025-02-15 13:50 DevOps/1-Intalar-Ubuntu-MV-VirtualBox/readme.md\n",
      "-rw-r--r-- vagrant/vagrant   8080 2025-02-15 13:50 DevOps/1-Intalar-Ubuntu-MV-VirtualBox/1-Instalar-VirtualBox.md\n",
      "drwxr-xr-x vagrant/vagrant      0 2025-02-26 16:58 DevOps/7-Cron/\n",
      "drwxr-xr-x vagrant/vagrant      0 2025-02-26 16:54 DevOps/7-Cron/.ipynb_checkpoints/\n",
      "-rw-r--r-- vagrant/vagrant 345962 2025-02-15 13:50 DevOps/7-Cron/.ipynb_checkpoints/1-Cron-checkpoint.ipynb\n",
      "-rw-r--r-- vagrant/vagrant    169 2025-02-26 16:58 DevOps/7-Cron/.ipynb_checkpoints/saludo-checkpoint.sh\n",
      "-rw-r--r-- vagrant/vagrant      0 2025-02-26 16:52 DevOps/7-Cron/.ipynb_checkpoints/cronlog-checkpoint\n",
      "-rw-r--r-- vagrant/vagrant  48975 2025-04-10 12:57 DevOps/7-Cron/cronlog\n",
      "-rw-r--r-- vagrant/vagrant      0 2025-04-10 12:57 DevOps/7-Cron/errorcronlog\n",
      "-rw-r--r-- vagrant/vagrant    169 2025-02-26 16:58 DevOps/7-Cron/saludo.sh\n",
      "-rw-r--r-- vagrant/vagrant 345962 2025-02-15 13:50 DevOps/7-Cron/1-Cron.ipynb\n"
     ]
    }
   ],
   "source": [
    "tar -tvf DevOps-Backup.tar"
   ]
  },
  {
   "cell_type": "markdown",
   "id": "56d28c9b-4b46-4ff2-95ab-f4092d1a4568",
   "metadata": {},
   "source": [
    "Nos muestra todos los directorios y archivos dentro, pero sin descomprimir/desempaquetar:"
   ]
  },
  {
   "cell_type": "code",
   "execution_count": 14,
   "id": "f2339e0a-4259-4541-824b-9e7b81d18288",
   "metadata": {},
   "outputs": [
    {
     "name": "stdout",
     "output_type": "stream",
     "text": [
      "total 2816\n",
      "-rw-r--r-- 1 vagrant vagrant 2877440 abr 10 12:57 DevOps-Backup.tar\n",
      "drwx------ 9 vagrant vagrant    4096 feb 15 13:06 vagrant\n"
     ]
    }
   ],
   "source": [
    "ls -l"
   ]
  },
  {
   "cell_type": "markdown",
   "id": "344a7056-272d-487a-8221-f26a380eec28",
   "metadata": {},
   "source": [
    "## Desempaquetar\n",
    "\n",
    "**Parámetros:**\n",
    "- `x`: extraer."
   ]
  },
  {
   "cell_type": "code",
   "execution_count": 16,
   "id": "5dc3525a-49ca-4f88-8aec-91d8c298bfd2",
   "metadata": {
    "scrolled": true
   },
   "outputs": [],
   "source": [
    "sudo tar -xf DevOps-Backup.tar"
   ]
  },
  {
   "cell_type": "markdown",
   "id": "ed8f44b7-edb6-43e8-87b8-67158079b859",
   "metadata": {},
   "source": [
    "Verificamos los archivos en el directorio y veremos la carpeta `DevOps`:"
   ]
  },
  {
   "cell_type": "code",
   "execution_count": 17,
   "id": "5b39cf1e-de81-493f-b79b-df8805583b83",
   "metadata": {},
   "outputs": [
    {
     "name": "stdout",
     "output_type": "stream",
     "text": [
      "total 2820\n",
      "drwxr-xr-x 14 vagrant vagrant    4096 abr 10 12:52 DevOps\n",
      "-rw-r--r--  1 vagrant vagrant 2877440 abr 10 12:57 DevOps-Backup.tar\n",
      "drwx------  9 vagrant vagrant    4096 feb 15 13:06 vagrant\n"
     ]
    }
   ],
   "source": [
    "ls -l"
   ]
  },
  {
   "cell_type": "markdown",
   "id": "7beb5de3-0152-4839-80a2-0f8113d83007",
   "metadata": {},
   "source": [
    "## Comparación de tamaño\n",
    "Con el comando `du -hs` podemos ver el peso del directorio en que nos encontramos:"
   ]
  },
  {
   "cell_type": "code",
   "execution_count": 18,
   "id": "f21514b2-f461-45b2-9702-ad05e3da1170",
   "metadata": {},
   "outputs": [],
   "source": [
    "cd DevOps"
   ]
  },
  {
   "cell_type": "code",
   "execution_count": 19,
   "id": "7025bc2c-ee82-4620-9576-5cfee6ca4bdf",
   "metadata": {},
   "outputs": [
    {
     "name": "stdout",
     "output_type": "stream",
     "text": [
      "3.0M\t.\n"
     ]
    }
   ],
   "source": [
    "du -hs"
   ]
  },
  {
   "cell_type": "code",
   "execution_count": 20,
   "id": "3c890330-5a90-4bc9-b8a2-92ead74c20fc",
   "metadata": {},
   "outputs": [],
   "source": [
    "cd .."
   ]
  },
  {
   "cell_type": "markdown",
   "id": "3d52c75a-14a1-4280-9598-d61e90c92e8b",
   "metadata": {},
   "source": [
    "El archivo tar pesa:"
   ]
  },
  {
   "cell_type": "code",
   "execution_count": 24,
   "id": "a8e827a8-c593-4678-bfaa-6fbb0bfd0586",
   "metadata": {
    "scrolled": true
   },
   "outputs": [
    {
     "name": "stdout",
     "output_type": "stream",
     "text": [
      "2.8M\tDevOps-Backup.tar\n"
     ]
    }
   ],
   "source": [
    "du -hs DevOps-Backup.tar"
   ]
  },
  {
   "cell_type": "markdown",
   "id": "e498ec81-a20d-42cf-84b0-681b798dfd63",
   "metadata": {},
   "source": [
    "El directorio `home` pesa:"
   ]
  },
  {
   "cell_type": "code",
   "execution_count": 25,
   "id": "7d24412a-fee1-4c1f-ac2e-1c7af00286c6",
   "metadata": {},
   "outputs": [
    {
     "name": "stdout",
     "output_type": "stream",
     "text": [
      "641M\t.\n"
     ]
    }
   ],
   "source": [
    "du -hs"
   ]
  },
  {
   "cell_type": "markdown",
   "id": "4160ce0c-1b5e-4f3f-b85d-887ee4004d2b",
   "metadata": {},
   "source": [
    "## Comprimir con `gzip`\n",
    "Con este comando podemos empaquetar y comprimir un directorio, indicamos el directorio e indicamos la ruta de compresión, por defecto se comprime en el mismo directorio. Cabe aclarar que `gzip` no comprime directorios multiples, por eso se utiliza en conjunto con `tar`."
   ]
  },
  {
   "cell_type": "code",
   "execution_count": 27,
   "id": "f86e657a-bf76-4074-9ccb-8a7cfd42c01e",
   "metadata": {},
   "outputs": [
    {
     "name": "stdout",
     "output_type": "stream",
     "text": [
      "DevOps\tDevOps-Backup.tar  vagrant\n"
     ]
    }
   ],
   "source": [
    "ls"
   ]
  },
  {
   "cell_type": "code",
   "execution_count": 29,
   "id": "bb043205-8a46-4e73-9455-48ecd4a71320",
   "metadata": {},
   "outputs": [],
   "source": [
    "sudo gzip DevOps-Backup.tar"
   ]
  },
  {
   "cell_type": "code",
   "execution_count": 31,
   "id": "a20f3656-268d-4542-9058-c033b085fe1c",
   "metadata": {},
   "outputs": [
    {
     "name": "stdout",
     "output_type": "stream",
     "text": [
      "DevOps\tDevOps-Backup.tar.gz  vagrant\n"
     ]
    }
   ],
   "source": [
    "ls"
   ]
  },
  {
   "cell_type": "markdown",
   "id": "cfa56622-ab7f-44ba-ad02-6f30c463ec52",
   "metadata": {},
   "source": [
    "Antes, `DevOps-Backup.tar` pesaba 2.8M, ahora:"
   ]
  },
  {
   "cell_type": "code",
   "execution_count": 32,
   "id": "acc7e37d-d287-4083-a810-363799c8a40b",
   "metadata": {},
   "outputs": [
    {
     "name": "stdout",
     "output_type": "stream",
     "text": [
      "2.0M\tDevOps-Backup.tar.gz\n"
     ]
    }
   ],
   "source": [
    "du -hs DevOps-Backup.tar.gz"
   ]
  },
  {
   "cell_type": "markdown",
   "id": "f9cc4ff6-7db4-41ad-8525-078345a8eb60",
   "metadata": {},
   "source": [
    "### Empaquetar y comprimir al mismo tiempo"
   ]
  },
  {
   "cell_type": "markdown",
   "id": "506c6a1d-7c7e-444f-9bc8-91b81f725054",
   "metadata": {},
   "source": [
    "Es posible usar `tar` y `gzip` en una sola línea de código:\n",
    "- `c`: crear empaquetado\n",
    "- `z`: comprimir\n",
    "- `v`: verbose"
   ]
  },
  {
   "cell_type": "code",
   "execution_count": 26,
   "id": "2696c35b-75e4-464a-b55d-f106f95afeeb",
   "metadata": {},
   "outputs": [
    {
     "name": "stdout",
     "output_type": "stream",
     "text": [
      "/home\n",
      "DevOps\tDevOps-Backup.tar.gz  vagrant\n"
     ]
    }
   ],
   "source": [
    "pwd && ls"
   ]
  },
  {
   "cell_type": "code",
   "execution_count": 27,
   "id": "aea2a89e-c02d-45dc-8661-bbb1f7ccef96",
   "metadata": {},
   "outputs": [
    {
     "name": "stdout",
     "output_type": "stream",
     "text": [
      "DevOps/\n",
      "DevOps/.ipynb_checkpoints/\n",
      "DevOps/2-Entrar-y-configurar-Debian/\n",
      "DevOps/2-Entrar-y-configurar-Debian/1-Entrar-a-Debian-y-permisos.md\n",
      "DevOps/2-Entrar-y-configurar-Debian/5-Jupyter-y-jupyterlab.md\n",
      "DevOps/2-Entrar-y-configurar-Debian/readme.md\n",
      "DevOps/2-Entrar-y-configurar-Debian/2-ssh-y-bash.md\n",
      "DevOps/2-Entrar-y-configurar-Debian/3-jupyter-en-mv-desde-terminal.md\n",
      "DevOps/2-Entrar-y-configurar-Debian/4-Instalar-version-global-python.md\n",
      "DevOps/2-Entrar-y-configurar-Debian/6-crear-servicio-automatico.md\n",
      "DevOps/9-Agile-Scrum/\n",
      "DevOps/9-Agile-Scrum/.ipynb_checkpoints/\n",
      "DevOps/9-Agile-Scrum/.ipynb_checkpoints/1-Agile-Scrum-checkpoint.ipynb\n",
      "DevOps/9-Agile-Scrum/1-Agile-Scrum.ipynb\n",
      "DevOps/4-Stakeholders/\n",
      "DevOps/4-Stakeholders/readme.md\n",
      "DevOps/8-Practica-1/\n",
      "DevOps/8-Practica-1/.ipynb_checkpoints/\n",
      "DevOps/8-Practica-1/.ipynb_checkpoints/descargar_imagen-checkpoint.sh\n",
      "DevOps/8-Practica-1/.ipynb_checkpoints/1-Practiva-checkpoint.ipynb\n",
      "DevOps/8-Practica-1/1-Practiva.ipynb\n",
      "DevOps/8-Practica-1/imagenes/\n",
      "DevOps/8-Practica-1/imagenes/.ipynb_checkpoints/\n",
      "DevOps/8-Practica-1/imagenes/.ipynb_checkpoints/descarga-checkpoint.log\n",
      "DevOps/8-Practica-1/imagenes/.ipynb_checkpoints/imagenes_descargadas-checkpoint.log\n",
      "DevOps/8-Practica-1/imagenes/descarga.log\n",
      "DevOps/8-Practica-1/imagenes/imagenes_descargadas.log\n",
      "DevOps/8-Practica-1/imagenes/wallpaper-32012.jpg\n",
      "DevOps/8-Practica-1/imagenes/wallpaper-31993.jpg\n",
      "DevOps/8-Practica-1/descargar_imagen.sh\n",
      "DevOps/.git/\n",
      "DevOps/.git/refs/\n",
      "DevOps/.git/refs/heads/\n",
      "DevOps/.git/refs/heads/main\n",
      "DevOps/.git/refs/remotes/\n",
      "DevOps/.git/refs/remotes/origin/\n",
      "DevOps/.git/refs/remotes/origin/HEAD\n",
      "DevOps/.git/refs/tags/\n",
      "DevOps/.git/packed-refs\n",
      "DevOps/.git/index\n",
      "DevOps/.git/logs/\n",
      "DevOps/.git/logs/refs/\n",
      "DevOps/.git/logs/refs/heads/\n",
      "DevOps/.git/logs/refs/heads/main\n",
      "DevOps/.git/logs/refs/remotes/\n",
      "DevOps/.git/logs/refs/remotes/origin/\n",
      "DevOps/.git/logs/refs/remotes/origin/HEAD\n",
      "DevOps/.git/logs/HEAD\n",
      "DevOps/.git/config\n",
      "DevOps/.git/HEAD\n",
      "DevOps/.git/hooks/\n",
      "DevOps/.git/hooks/pre-rebase.sample\n",
      "DevOps/.git/hooks/pre-applypatch.sample\n",
      "DevOps/.git/hooks/pre-receive.sample\n",
      "DevOps/.git/hooks/pre-push.sample\n",
      "DevOps/.git/hooks/push-to-checkout.sample\n",
      "DevOps/.git/hooks/prepare-commit-msg.sample\n",
      "DevOps/.git/hooks/pre-merge-commit.sample\n",
      "DevOps/.git/hooks/applypatch-msg.sample\n",
      "DevOps/.git/hooks/fsmonitor-watchman.sample\n",
      "DevOps/.git/hooks/update.sample\n",
      "DevOps/.git/hooks/pre-commit.sample\n",
      "DevOps/.git/hooks/commit-msg.sample\n",
      "DevOps/.git/hooks/post-update.sample\n",
      "DevOps/.git/info/\n",
      "DevOps/.git/info/exclude\n",
      "DevOps/.git/objects/\n",
      "DevOps/.git/objects/info/\n",
      "DevOps/.git/objects/pack/\n",
      "DevOps/.git/objects/pack/pack-5ee2d04150143678ce39b5bf44596e0cc48aea5c.pack\n",
      "DevOps/.git/objects/pack/pack-5ee2d04150143678ce39b5bf44596e0cc48aea5c.idx\n",
      "DevOps/.git/branches/\n",
      "DevOps/.git/description\n",
      "DevOps/5-Linux-y-FHS/\n",
      "DevOps/5-Linux-y-FHS/.ipynb_checkpoints/\n",
      "DevOps/5-Linux-y-FHS/.ipynb_checkpoints/1-FHS-checkpoint.md\n",
      "DevOps/5-Linux-y-FHS/readme.md\n",
      "DevOps/5-Linux-y-FHS/1-FHS.md\n",
      "DevOps/10-Comando-Tar/\n",
      "DevOps/10-Comando-Tar/.ipynb_checkpoints/\n",
      "DevOps/10-Comando-Tar/.ipynb_checkpoints/tar-checkpoint.ipynb\n",
      "DevOps/10-Comando-Tar/tar.ipynb\n",
      "DevOps/README.md\n",
      "DevOps/3-Bash/\n",
      "DevOps/3-Bash/.ipynb_checkpoints/\n",
      "DevOps/3-Bash/.ipynb_checkpoints/1-comandos-basicos-checkpoint.ipynb\n",
      "DevOps/3-Bash/readme.md\n",
      "DevOps/3-Bash/1-comandos-basicos.ipynb\n",
      "DevOps/6-Variable-de-entorno/\n",
      "DevOps/6-Variable-de-entorno/.ipynb_checkpoints/\n",
      "DevOps/6-Variable-de-entorno/.ipynb_checkpoints/1-variables-de-entorno-checkpoint.ipynb\n",
      "DevOps/6-Variable-de-entorno/.ipynb_checkpoints/variables-checkpoint.sh\n",
      "DevOps/6-Variable-de-entorno/.ipynb_checkpoints/2-Persistencia-checkpoint.ipynb\n",
      "DevOps/6-Variable-de-entorno/variables.sh\n",
      "DevOps/6-Variable-de-entorno/2-Persistencia.ipynb\n",
      "DevOps/6-Variable-de-entorno/1-variables-de-entorno.ipynb\n",
      "DevOps/1-Intalar-Ubuntu-MV-VirtualBox/\n",
      "DevOps/1-Intalar-Ubuntu-MV-VirtualBox/readme.md\n",
      "DevOps/1-Intalar-Ubuntu-MV-VirtualBox/1-Instalar-VirtualBox.md\n",
      "DevOps/7-Cron/\n",
      "DevOps/7-Cron/.ipynb_checkpoints/\n",
      "DevOps/7-Cron/.ipynb_checkpoints/1-Cron-checkpoint.ipynb\n",
      "DevOps/7-Cron/.ipynb_checkpoints/saludo-checkpoint.sh\n",
      "DevOps/7-Cron/.ipynb_checkpoints/cronlog-checkpoint\n",
      "DevOps/7-Cron/cronlog\n",
      "DevOps/7-Cron/errorcronlog\n",
      "DevOps/7-Cron/saludo.sh\n",
      "DevOps/7-Cron/1-Cron.ipynb\n"
     ]
    }
   ],
   "source": [
    "sudo tar -czvf DevOps-Backup-2in1.tar.gz DevOps"
   ]
  },
  {
   "cell_type": "code",
   "execution_count": 28,
   "id": "d0b3e3bc-dca5-4490-803d-3f23887ed53a",
   "metadata": {},
   "outputs": [
    {
     "name": "stdout",
     "output_type": "stream",
     "text": [
      "total 4040\n",
      "drwxr-xr-x 14 vagrant vagrant    4096 abr 10 12:52 DevOps\n",
      "-rw-r--r--  1 root    root    2063712 abr 10 16:04 DevOps-Backup-2in1.tar.gz\n",
      "-rw-r--r--  1 vagrant vagrant 2063712 abr 10 15:53 DevOps-Backup.tar.gz\n",
      "drwx------  9 vagrant vagrant    4096 feb 15 13:06 vagrant\n",
      "/home\n"
     ]
    }
   ],
   "source": [
    "ls -l && pwd"
   ]
  }
 ],
 "metadata": {
  "kernelspec": {
   "display_name": "Bash",
   "language": "bash",
   "name": "bash"
  },
  "language_info": {
   "codemirror_mode": "shell",
   "file_extension": ".sh",
   "mimetype": "text/x-sh",
   "name": "bash"
  }
 },
 "nbformat": 4,
 "nbformat_minor": 5
}
